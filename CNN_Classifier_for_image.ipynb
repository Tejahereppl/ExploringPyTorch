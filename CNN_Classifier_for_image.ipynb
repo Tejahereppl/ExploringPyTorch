{
  "cells": [
    {
      "cell_type": "code",
      "execution_count": 27,
      "metadata": {
        "colab": {
          "base_uri": "https://localhost:8080/"
        },
        "id": "LdLNNv31tefV",
        "outputId": "7464c7d2-db49-477b-ae8a-ce6ff305faed"
      },
      "outputs": [
        {
          "output_type": "execute_result",
          "data": {
            "text/plain": [
              "['T-shirt/top',\n",
              " 'Trouser',\n",
              " 'Pullover',\n",
              " 'Dress',\n",
              " 'Coat',\n",
              " 'Sandal',\n",
              " 'Shirt',\n",
              " 'Sneaker',\n",
              " 'Bag',\n",
              " 'Ankle boot']"
            ]
          },
          "metadata": {},
          "execution_count": 27
        }
      ],
      "source": [
        "\n",
        "\n",
        "import torch\n",
        "from torch import nn\n",
        "\n",
        "import torchvision\n",
        "from torchvision import datasets\n",
        "from torchvision.transforms import ToTensor\n",
        "\n",
        "train_data = datasets.FashionMNIST(\n",
        "    root = \"data\",\n",
        "    train = True,\n",
        "    download = True,\n",
        "    transform = ToTensor(),\n",
        "    target_transform = None\n",
        ")\n",
        "train_data.classes\n"
      ]
    },
    {
      "cell_type": "code",
      "execution_count": 4,
      "metadata": {
        "id": "7StOuxkDysfj"
      },
      "outputs": [],
      "source": [
        "test_data = datasets.FashionMNIST(\n",
        "    root = \"data\",\n",
        "    train = False,\n",
        "    download = True,\n",
        "    transform = ToTensor(),\n",
        "\n",
        ")"
      ]
    },
    {
      "cell_type": "code",
      "execution_count": 5,
      "metadata": {
        "id": "h8rYOUGqvKC7"
      },
      "outputs": [],
      "source": [
        "from torch.utils.data import DataLoader\n",
        "\n",
        "train_dataloader = DataLoader(\n",
        "    train_data,\n",
        "    batch_size = 32,\n",
        "    shuffle= True\n",
        ")\n",
        "\n",
        "\n"
      ]
    },
    {
      "cell_type": "code",
      "execution_count": 6,
      "metadata": {
        "id": "SWLetCMPyIac"
      },
      "outputs": [],
      "source": [
        "test_dataloader = DataLoader(\n",
        "    test_data,\n",
        "    batch_size = 32,\n",
        "    shuffle = True\n",
        ")"
      ]
    },
    {
      "cell_type": "code",
      "execution_count": 7,
      "metadata": {
        "colab": {
          "base_uri": "https://localhost:8080/"
        },
        "id": "dVJ7Cx1AyRgO",
        "outputId": "2c606266-0584-4d2c-eac8-0d4328a573a2"
      },
      "outputs": [
        {
          "output_type": "stream",
          "name": "stdout",
          "text": [
            "len of train dataloader 1875\n",
            "len of test dataloader 313\n"
          ]
        }
      ],
      "source": [
        "print(f\"len of train dataloader {len(train_dataloader)}\")\n",
        "print(f\"len of test dataloader {len(test_dataloader)}\")"
      ]
    },
    {
      "cell_type": "code",
      "execution_count": 30,
      "metadata": {
        "id": "nrS9DswNyx_N"
      },
      "outputs": [],
      "source": [
        "import torch.nn.functional as F\n",
        "class CNNClassifier(nn.Module):\n",
        "  def __init__(self,input_shape,hidden_units,output_shape):\n",
        "    super().__init__()\n",
        "\n",
        "    self.layer1 = nn.Sequential(\n",
        "      nn.Conv2d(in_channels = input_shape,out_channels = hidden_units,kernel_size = 3,stride = 1,padding = 1),\n",
        "      nn.ReLU(),\n",
        "      nn.Conv2d(in_channels = hidden_units,out_channels = hidden_units,kernel_size = 3,stride = 1,padding = 1),\n",
        "      nn.ReLU(),\n",
        "      nn.MaxPool2d(2)\n",
        "    )\n",
        "    self.layer2 = nn.Sequential(\n",
        "        nn.Conv2d(in_channels = hidden_units,out_channels = hidden_units,kernel_size = 3,stride = 1,padding = 1),\n",
        "      nn.ReLU(),\n",
        "      nn.Conv2d(in_channels = hidden_units,out_channels = hidden_units,kernel_size = 3,stride = 1,padding = 1),\n",
        "      nn.ReLU(),\n",
        "      nn.MaxPool2d(2)\n",
        "    )\n",
        "    self.classifier = nn.Sequential(\n",
        "        nn.Flatten(),\n",
        "        nn.Linear(in_features = hidden_units*7*7,out_features = output_shape)\n",
        "    )\n",
        "  def forward(self, x):\n",
        "    x = self.layer1(x)\n",
        "    print(f\"After layer1: {x.shape}\")\n",
        "\n",
        "    x = self.layer2(x)\n",
        "    print(f\"After layer2: {x.shape}\")\n",
        "\n",
        "    x = self.classifier(x)\n",
        "    print(f\"After classifier: {x.shape}\")\n",
        "\n",
        "    return x\n",
        "\n",
        "\n",
        "CNN = CNNClassifier(input_shape = 1,hidden_units = 10,output_shape = 10)\n",
        "\n"
      ]
    },
    {
      "cell_type": "code",
      "execution_count": 31,
      "metadata": {
        "id": "opYmCF4w1fxn"
      },
      "outputs": [],
      "source": [
        "loss_fn = nn.CrossEntropyLoss()\n",
        "optimizer = torch.optim.SGD(params =CNN.parameters(),lr = 0.1 )"
      ]
    },
    {
      "cell_type": "code",
      "execution_count": 32,
      "metadata": {
        "id": "O9rArUn73QHm"
      },
      "outputs": [],
      "source": [
        "def acc_fn(Y_pred,Y_test):\n",
        "  _,Y_pred = torch.max(Y_pred,1)\n",
        "  return ((Y_pred==Y_test).sum())/len(Y_pred)"
      ]
    },
    {
      "cell_type": "code",
      "execution_count": 33,
      "metadata": {
        "id": "rwxvoUYK15LU"
      },
      "outputs": [],
      "source": [
        "\n",
        "def trainer(dataloader,model,acc_fn,loss_fn,optimizer):\n",
        "  train_loss = 0.0\n",
        "  train_accuracy = 0.0\n",
        "  model.train()\n",
        "  for batch,(X,y) in enumerate(dataloader):\n",
        "\n",
        "    y_pred = model(X)\n",
        "    loss = loss_fn(y_pred,y)\n",
        "    train_loss+=loss.item()\n",
        "    train_accuracy +=acc_fn(y_pred,y).item()\n",
        "\n",
        "\n",
        "    optimizer.zero_grad()\n",
        "    loss.backward()\n",
        "\n",
        "    optimizer.step()\n",
        "  train_loss = (train_loss)/len(dataloader)\n",
        "  train_accuracy = (train_accuracy)/len(dataloader)\n",
        "  print(f\"Training Loss: {train_loss}|Training Accuracy : {train_accuracy}\")\n",
        "\n",
        "\n",
        "def tester(dataloader,model,acc_fn,loss_fn):\n",
        "\n",
        "  test_loss = 0.0\n",
        "  test_accuracy = 0.0\n",
        "\n",
        "  model.eval()\n",
        "  with torch.inference_mode():\n",
        "    for X,y in (dataloader):\n",
        "\n",
        "      y_pred = model(X)\n",
        "\n",
        "      loss = loss_fn(y_pred,y)\n",
        "      test_loss+=loss.item()\n",
        "      test_accuracy +=acc_fn(y_pred,y).item()\n",
        "\n",
        "    test_loss = (test_loss)/len(dataloader)\n",
        "    test_accuracy = (test_accuracy)/len(dataloader)\n",
        "    print(f\"Testing Loss: {test_loss}|Testing Accuracy : {test_accuracy}\\n\")\n",
        "\n",
        "\n"
      ]
    },
    {
      "cell_type": "code",
      "execution_count": null,
      "metadata": {
        "collapsed": true,
        "id": "4LqlSIpW4Vu8"
      },
      "outputs": [],
      "source": [
        "for epoch in range(5):\n",
        "  print(f\"\\nEpoch :{epoch}\\n__________________________________\")\n",
        "  trainer(train_dataloader,CNN,acc_fn,loss_fn,optimizer)\n",
        "  tester(test_dataloader,CNN,acc_fn,loss_fn)\n"
      ]
    },
    {
      "cell_type": "code",
      "source": [
        "from PIL import Image\n",
        "from torchvision import transforms\n",
        "\n",
        "path = \"/test_data_for_cnn.png\"\n",
        "image_dim = Image.open(path)\n",
        "image = image_dim.convert(\"L\")\n",
        "image = image.resize((28,28))\n",
        "\n",
        "transform = transforms.Compose([transforms.ToTensor()])\n",
        "image_tensor = transform(image)\n",
        "image_tensor = image_tensor.unsqueeze(0)\n",
        "image_tensor.shape"
      ],
      "metadata": {
        "colab": {
          "base_uri": "https://localhost:8080/"
        },
        "id": "aOxcFM0Lxa2X",
        "outputId": "f23b7d50-7036-4a27-cefa-9c58c91d1486"
      },
      "execution_count": 37,
      "outputs": [
        {
          "output_type": "execute_result",
          "data": {
            "text/plain": [
              "torch.Size([1, 1, 28, 28])"
            ]
          },
          "metadata": {},
          "execution_count": 37
        }
      ]
    },
    {
      "cell_type": "code",
      "source": [
        "def predict(CNN,X):\n",
        "    pred_class_idx = torch.argmax(CNN.forward(X))\n",
        "\n",
        "    class_names = ['T-shirt/top',\n",
        " 'Trouser',\n",
        " 'Pullover',\n",
        " 'Dress',\n",
        " 'Coat',\n",
        " 'Sandal',\n",
        " 'Shirt',\n",
        " 'Sneaker',\n",
        " 'Bag',\n",
        " 'Ankle boot']\n",
        "    return class_names[pred_class_idx.item()]\n",
        "predict(CNN,image_tensor)"
      ],
      "metadata": {
        "colab": {
          "base_uri": "https://localhost:8080/",
          "height": 87
        },
        "id": "7djeUjIG6EHS",
        "outputId": "14bfeacd-f12e-4ae9-e6b8-4af30b793487"
      },
      "execution_count": 39,
      "outputs": [
        {
          "output_type": "stream",
          "name": "stdout",
          "text": [
            "After layer1: torch.Size([1, 10, 14, 14])\n",
            "After layer2: torch.Size([1, 10, 7, 7])\n",
            "After classifier: torch.Size([1, 10])\n"
          ]
        },
        {
          "output_type": "execute_result",
          "data": {
            "text/plain": [
              "'Bag'"
            ],
            "application/vnd.google.colaboratory.intrinsic+json": {
              "type": "string"
            }
          },
          "metadata": {},
          "execution_count": 39
        }
      ]
    }
  ],
  "metadata": {
    "colab": {
      "provenance": []
    },
    "kernelspec": {
      "display_name": "Python 3",
      "name": "python3"
    },
    "language_info": {
      "name": "python"
    }
  },
  "nbformat": 4,
  "nbformat_minor": 0
}