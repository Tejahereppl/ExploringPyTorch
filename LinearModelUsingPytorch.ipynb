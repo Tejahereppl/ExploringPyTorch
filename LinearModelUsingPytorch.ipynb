{
  "nbformat": 4,
  "nbformat_minor": 0,
  "metadata": {
    "colab": {
      "provenance": []
    },
    "kernelspec": {
      "name": "python3",
      "display_name": "Python 3"
    },
    "language_info": {
      "name": "python"
    }
  },
  "cells": [
    {
      "cell_type": "code",
      "execution_count": null,
      "metadata": {
        "id": "kYLEoLlgkCAc"
      },
      "outputs": [],
      "source": [
        "import torch\n",
        "import torch.nn as nn\n",
        "import matplotlib.pyplot as plt\n"
      ]
    },
    {
      "cell_type": "code",
      "source": [
        "def make_data(split):\n",
        "\n",
        "  start = 0\n",
        "  end = 1\n",
        "  step = 0.06\n",
        "\n",
        "  weight=0.3\n",
        "  bias = 0.9\n",
        "\n",
        "  X = torch.arange(start,end,step,dtype=torch.float32)\n",
        "  y = X*weight + bias\n",
        "\n",
        "  train_split = int(split*(len(X)))\n",
        "  X_train = X[:train_split]\n",
        "  y_train = y[:train_split]\n",
        "  X_test = X[train_split:]\n",
        "  y_test = y[train_split:]\n",
        "\n",
        "\n",
        "\n",
        "  return X_train, X_test, y_train, y_test\n",
        "X_train, X_test, y_train, y_test = make_data(0.8)\n"
      ],
      "metadata": {
        "id": "AIPLPl5SkI6i"
      },
      "execution_count": null,
      "outputs": []
    },
    {
      "cell_type": "code",
      "source": [
        "import matplotlib.pyplot as plt\n",
        "\n",
        "def plot_data(X_train, y_train, X_test, y_test,predictions = None,y_pred = None):\n",
        "    plt.figure(figsize=(5, 5))\n",
        "\n",
        "    # Plot training data\n",
        "    plt.scatter(X_train, y_train, color=\"red\", label=\"Training Data\")\n",
        "\n",
        "    # Plot test data\n",
        "    plt.scatter(X_test, y_test, color=\"blue\", label=\"Test Data\")\n",
        "\n",
        "    if predictions is not None:\n",
        "      plt.scatter(X_test,y_pred,color = \"green\",label = \"Predictions\")\n",
        "\n",
        "    # Add labels and legend\n",
        "    plt.xlabel(\"Feature Data\")\n",
        "    plt.ylabel(\"Labels\")\n",
        "    plt.legend()  # Show the legend to differentiate training and test data\n",
        "\n",
        "    # Show the plot\n",
        "    plt.show()\n",
        "\n",
        "# Example usage\n",
        "plot_data(X_train, y_train, X_test, y_test)\n"
      ],
      "metadata": {
        "colab": {
          "base_uri": "https://localhost:8080/",
          "height": 467
        },
        "id": "UJD_KsMolVa8",
        "outputId": "51a94217-ed4a-4010-e40a-94a148dbfbf3"
      },
      "execution_count": null,
      "outputs": [
        {
          "output_type": "display_data",
          "data": {
            "text/plain": [
              "<Figure size 500x500 with 1 Axes>"
            ],
            "image/png": "[encoded data removed]"
          },
          "metadata": {}
        }
      ]
    },
    {
      "cell_type": "code",
      "source": [
        "class LinearRegression(nn.Module):\n",
        "  def __init__(self):\n",
        "    super().__init__()\n",
        "\n",
        "    self.weights = nn.Parameter(torch.randn(1),requires_grad = True)\n",
        "    self.bias = nn.Parameter(torch.randn(1),requires_grad = True)\n",
        "\n",
        "  def forward(self,X):\n",
        "    return self.weights*X+self.bias\n",
        "\n"
      ],
      "metadata": {
        "id": "kcoMg43Am4sk"
      },
      "execution_count": null,
      "outputs": []
    },
    {
      "cell_type": "code",
      "source": [
        "lr = LinearRegression()\n",
        "with torch.inference_mode():\n",
        "  y_pred = lr(X_test)\n",
        "print((y_pred-y_test).mean())"
      ],
      "metadata": {
        "colab": {
          "base_uri": "https://localhost:8080/"
        },
        "id": "VT9_bj3Inpor",
        "outputId": "fe4ca045-291a-4507-e8c8-b039f4f4cd44"
      },
      "execution_count": null,
      "outputs": [
        {
          "output_type": "stream",
          "name": "stdout",
          "text": [
            "tensor(-2.3242)\n"
          ]
        }
      ]
    },
    {
      "cell_type": "code",
      "source": [
        "y_pred = lr.forward(X_test)\n",
        "print((y_pred-y_test).mean())"
      ],
      "metadata": {
        "colab": {
          "base_uri": "https://localhost:8080/"
        },
        "id": "JRzCZf49pY5_",
        "outputId": "4e931636-2c57-479c-fc81-43b89447278b"
      },
      "execution_count": null,
      "outputs": [
        {
          "output_type": "stream",
          "name": "stdout",
          "text": [
            "tensor(-2.3242, grad_fn=<MeanBackward0>)\n"
          ]
        }
      ]
    },
    {
      "cell_type": "code",
      "source": [
        "loss_fn = nn.L1Loss()\n",
        "optimizer = torch.optim.SGD(params = lr.parameters(),lr = 0.001)\n",
        "\n",
        "\n",
        "epoch = 2000\n",
        "\n",
        "epoch_count =[]\n",
        "test_loss_count =[]\n",
        "train_loss_count = []\n",
        "\n",
        "for epoch in range(epoch+1):\n",
        "  lr.train()\n",
        "\n",
        "  y_pred = lr.forward(X_train)\n",
        "  loss = loss_fn(y_pred,y_train)\n",
        "  optimizer.zero_grad()\n",
        "  loss.backward()\n",
        "  optimizer.step()\n",
        "\n",
        "  lr.eval()\n",
        "\n",
        "  with torch.inference_mode():\n",
        "    pred = lr(X_test)\n",
        "    test_loss = loss_fn(pred,y_test)\n",
        "\n",
        "  if epoch%10 ==0:\n",
        "    epoch_count.append(epoch)\n",
        "    test_loss_count.append(test_loss)\n",
        "    train_loss_count.append(loss)\n",
        "\n",
        "    print(f\"Epoch:{epoch}|MAE_train_loss:{loss}|MAE_test_loss:{test_loss}\")\n",
        "\n",
        "\n",
        "\n",
        "\n",
        "\n"
      ],
      "metadata": {
        "colab": {
          "base_uri": "https://localhost:8080/"
        },
        "id": "aDJ8QYJbpf1w",
        "outputId": "6004085a-9180-47ca-f56a-b522591a8b62"
      },
      "execution_count": null,
      "outputs": [
        {
          "output_type": "stream",
          "name": "stdout",
          "text": [
            "Epoch:0|MAE_train_loss:0.010238051414489746|MAE_test_loss:0.010559260845184326\n",
            "Epoch:10|MAE_train_loss:0.0010578724322840571|MAE_test_loss:5.364418029785156e-05\n",
            "Epoch:20|MAE_train_loss:0.0010578724322840571|MAE_test_loss:5.364418029785156e-05\n",
            "Epoch:30|MAE_train_loss:0.0010578724322840571|MAE_test_loss:5.364418029785156e-05\n",
            "Epoch:40|MAE_train_loss:0.0010578724322840571|MAE_test_loss:5.364418029785156e-05\n",
            "Epoch:50|MAE_train_loss:0.0010578724322840571|MAE_test_loss:5.364418029785156e-05\n",
            "Epoch:60|MAE_train_loss:0.0010578724322840571|MAE_test_loss:5.364418029785156e-05\n",
            "Epoch:70|MAE_train_loss:0.0010578724322840571|MAE_test_loss:5.364418029785156e-05\n",
            "Epoch:80|MAE_train_loss:0.0010578724322840571|MAE_test_loss:5.364418029785156e-05\n",
            "Epoch:90|MAE_train_loss:0.0010578724322840571|MAE_test_loss:5.364418029785156e-05\n",
            "Epoch:100|MAE_train_loss:0.0010578724322840571|MAE_test_loss:5.364418029785156e-05\n",
            "Epoch:110|MAE_train_loss:0.0010578724322840571|MAE_test_loss:5.364418029785156e-05\n",
            "Epoch:120|MAE_train_loss:0.0010578724322840571|MAE_test_loss:5.364418029785156e-05\n",
            "Epoch:130|MAE_train_loss:0.0010578724322840571|MAE_test_loss:5.364418029785156e-05\n",
            "Epoch:140|MAE_train_loss:0.0010578724322840571|MAE_test_loss:5.364418029785156e-05\n",
            "Epoch:150|MAE_train_loss:0.0010578724322840571|MAE_test_loss:5.364418029785156e-05\n",
            "Epoch:160|MAE_train_loss:0.0010578724322840571|MAE_test_loss:5.364418029785156e-05\n",
            "Epoch:170|MAE_train_loss:0.0010578724322840571|MAE_test_loss:5.364418029785156e-05\n",
            "Epoch:180|MAE_train_loss:0.0010578724322840571|MAE_test_loss:5.364418029785156e-05\n",
            "Epoch:190|MAE_train_loss:0.0010578724322840571|MAE_test_loss:5.364418029785156e-05\n",
            "Epoch:200|MAE_train_loss:0.0010578724322840571|MAE_test_loss:5.364418029785156e-05\n",
            "Epoch:210|MAE_train_loss:0.0010578724322840571|MAE_test_loss:5.364418029785156e-05\n",
            "Epoch:220|MAE_train_loss:0.0010578724322840571|MAE_test_loss:5.364418029785156e-05\n",
            "Epoch:230|MAE_train_loss:0.0010578724322840571|MAE_test_loss:5.364418029785156e-05\n",
            "Epoch:240|MAE_train_loss:0.0010578724322840571|MAE_test_loss:5.364418029785156e-05\n",
            "Epoch:250|MAE_train_loss:0.0010578724322840571|MAE_test_loss:5.364418029785156e-05\n",
            "Epoch:260|MAE_train_loss:0.0010578724322840571|MAE_test_loss:5.364418029785156e-05\n",
            "Epoch:270|MAE_train_loss:0.0010578724322840571|MAE_test_loss:5.364418029785156e-05\n",
            "Epoch:280|MAE_train_loss:0.0010578724322840571|MAE_test_loss:5.364418029785156e-05\n",
            "Epoch:290|MAE_train_loss:0.0010578724322840571|MAE_test_loss:5.364418029785156e-05\n",
            "Epoch:300|MAE_train_loss:0.0010578724322840571|MAE_test_loss:5.364418029785156e-05\n",
            "Epoch:310|MAE_train_loss:0.0010578724322840571|MAE_test_loss:5.364418029785156e-05\n",
            "Epoch:320|MAE_train_loss:0.0010578724322840571|MAE_test_loss:5.364418029785156e-05\n",
            "Epoch:330|MAE_train_loss:0.0010578724322840571|MAE_test_loss:5.364418029785156e-05\n",
            "Epoch:340|MAE_train_loss:0.0010578724322840571|MAE_test_loss:5.364418029785156e-05\n",
            "Epoch:350|MAE_train_loss:0.0010578724322840571|MAE_test_loss:5.364418029785156e-05\n",
            "Epoch:360|MAE_train_loss:0.0010578724322840571|MAE_test_loss:5.364418029785156e-05\n",
            "Epoch:370|MAE_train_loss:0.0010578724322840571|MAE_test_loss:5.364418029785156e-05\n",
            "Epoch:380|MAE_train_loss:0.0010578724322840571|MAE_test_loss:5.364418029785156e-05\n",
            "Epoch:390|MAE_train_loss:0.0010578724322840571|MAE_test_loss:5.364418029785156e-05\n",
            "Epoch:400|MAE_train_loss:0.0010578724322840571|MAE_test_loss:5.364418029785156e-05\n",
            "Epoch:410|MAE_train_loss:0.0010578724322840571|MAE_test_loss:5.364418029785156e-05\n",
            "Epoch:420|MAE_train_loss:0.0010578724322840571|MAE_test_loss:5.364418029785156e-05\n",
            "Epoch:430|MAE_train_loss:0.0010578724322840571|MAE_test_loss:5.364418029785156e-05\n",
            "Epoch:440|MAE_train_loss:0.0010578724322840571|MAE_test_loss:5.364418029785156e-05\n",
            "Epoch:450|MAE_train_loss:0.0010578724322840571|MAE_test_loss:5.364418029785156e-05\n",
            "Epoch:460|MAE_train_loss:0.0010578724322840571|MAE_test_loss:5.364418029785156e-05\n",
            "Epoch:470|MAE_train_loss:0.0010578724322840571|MAE_test_loss:5.364418029785156e-05\n",
            "Epoch:480|MAE_train_loss:0.0010578724322840571|MAE_test_loss:5.364418029785156e-05\n",
            "Epoch:490|MAE_train_loss:0.0010578724322840571|MAE_test_loss:5.364418029785156e-05\n",
            "Epoch:500|MAE_train_loss:0.0010578724322840571|MAE_test_loss:5.364418029785156e-05\n",
            "Epoch:510|MAE_train_loss:0.0010578724322840571|MAE_test_loss:5.364418029785156e-05\n",
            "Epoch:520|MAE_train_loss:0.0010578724322840571|MAE_test_loss:5.364418029785156e-05\n",
            "Epoch:530|MAE_train_loss:0.0010578724322840571|MAE_test_loss:5.364418029785156e-05\n",
            "Epoch:540|MAE_train_loss:0.0010578724322840571|MAE_test_loss:5.364418029785156e-05\n",
            "Epoch:550|MAE_train_loss:0.0010578724322840571|MAE_test_loss:5.364418029785156e-05\n",
            "Epoch:560|MAE_train_loss:0.0010578724322840571|MAE_test_loss:5.364418029785156e-05\n",
            "Epoch:570|MAE_train_loss:0.0010578724322840571|MAE_test_loss:5.364418029785156e-05\n",
            "Epoch:580|MAE_train_loss:0.0010578724322840571|MAE_test_loss:5.364418029785156e-05\n",
            "Epoch:590|MAE_train_loss:0.0010578724322840571|MAE_test_loss:5.364418029785156e-05\n",
            "Epoch:600|MAE_train_loss:0.0010578724322840571|MAE_test_loss:5.364418029785156e-05\n",
            "Epoch:610|MAE_train_loss:0.0010578724322840571|MAE_test_loss:5.364418029785156e-05\n",
            "Epoch:620|MAE_train_loss:0.0010578724322840571|MAE_test_loss:5.364418029785156e-05\n",
            "Epoch:630|MAE_train_loss:0.0010578724322840571|MAE_test_loss:5.364418029785156e-05\n",
            "Epoch:640|MAE_train_loss:0.0010578724322840571|MAE_test_loss:5.364418029785156e-05\n",
            "Epoch:650|MAE_train_loss:0.0010578724322840571|MAE_test_loss:5.364418029785156e-05\n",
            "Epoch:660|MAE_train_loss:0.0010578724322840571|MAE_test_loss:5.364418029785156e-05\n",
            "Epoch:670|MAE_train_loss:0.0010578724322840571|MAE_test_loss:5.364418029785156e-05\n",
            "Epoch:680|MAE_train_loss:0.0010578724322840571|MAE_test_loss:5.364418029785156e-05\n",
            "Epoch:690|MAE_train_loss:0.0010578724322840571|MAE_test_loss:5.364418029785156e-05\n",
            "Epoch:700|MAE_train_loss:0.0010578724322840571|MAE_test_loss:5.364418029785156e-05\n",
            "Epoch:710|MAE_train_loss:0.0010578724322840571|MAE_test_loss:5.364418029785156e-05\n",
            "Epoch:720|MAE_train_loss:0.0010578724322840571|MAE_test_loss:5.364418029785156e-05\n",
            "Epoch:730|MAE_train_loss:0.0010578724322840571|MAE_test_loss:5.364418029785156e-05\n",
            "Epoch:740|MAE_train_loss:0.0010578724322840571|MAE_test_loss:5.364418029785156e-05\n",
            "Epoch:750|MAE_train_loss:0.0010578724322840571|MAE_test_loss:5.364418029785156e-05\n",
            "Epoch:760|MAE_train_loss:0.0010578724322840571|MAE_test_loss:5.364418029785156e-05\n",
            "Epoch:770|MAE_train_loss:0.0010578724322840571|MAE_test_loss:5.364418029785156e-05\n",
            "Epoch:780|MAE_train_loss:0.0010578724322840571|MAE_test_loss:5.364418029785156e-05\n",
            "Epoch:790|MAE_train_loss:0.0010578724322840571|MAE_test_loss:5.364418029785156e-05\n",
            "Epoch:800|MAE_train_loss:0.0010578724322840571|MAE_test_loss:5.364418029785156e-05\n",
            "Epoch:810|MAE_train_loss:0.0010578724322840571|MAE_test_loss:5.364418029785156e-05\n",
            "Epoch:820|MAE_train_loss:0.0010578724322840571|MAE_test_loss:5.364418029785156e-05\n",
            "Epoch:830|MAE_train_loss:0.0010578724322840571|MAE_test_loss:5.364418029785156e-05\n",
            "Epoch:840|MAE_train_loss:0.0010578724322840571|MAE_test_loss:5.364418029785156e-05\n",
            "Epoch:850|MAE_train_loss:0.0010578724322840571|MAE_test_loss:5.364418029785156e-05\n",
            "Epoch:860|MAE_train_loss:0.0010578724322840571|MAE_test_loss:5.364418029785156e-05\n",
            "Epoch:870|MAE_train_loss:0.0010578724322840571|MAE_test_loss:5.364418029785156e-05\n",
            "Epoch:880|MAE_train_loss:0.0010578724322840571|MAE_test_loss:5.364418029785156e-05\n",
            "Epoch:890|MAE_train_loss:0.0010578724322840571|MAE_test_loss:5.364418029785156e-05\n",
            "Epoch:900|MAE_train_loss:0.0010578724322840571|MAE_test_loss:5.364418029785156e-05\n",
            "Epoch:910|MAE_train_loss:0.0010578724322840571|MAE_test_loss:5.364418029785156e-05\n",
            "Epoch:920|MAE_train_loss:0.0010578724322840571|MAE_test_loss:5.364418029785156e-05\n",
            "Epoch:930|MAE_train_loss:0.0010578724322840571|MAE_test_loss:5.364418029785156e-05\n",
            "Epoch:940|MAE_train_loss:0.0010578724322840571|MAE_test_loss:5.364418029785156e-05\n",
            "Epoch:950|MAE_train_loss:0.0010578724322840571|MAE_test_loss:5.364418029785156e-05\n",
            "Epoch:960|MAE_train_loss:0.0010578724322840571|MAE_test_loss:5.364418029785156e-05\n",
            "Epoch:970|MAE_train_loss:0.0010578724322840571|MAE_test_loss:5.364418029785156e-05\n",
            "Epoch:980|MAE_train_loss:0.0010578724322840571|MAE_test_loss:5.364418029785156e-05\n",
            "Epoch:990|MAE_train_loss:0.0010578724322840571|MAE_test_loss:5.364418029785156e-05\n",
            "Epoch:1000|MAE_train_loss:0.0010578724322840571|MAE_test_loss:5.364418029785156e-05\n",
            "Epoch:1010|MAE_train_loss:0.0010578724322840571|MAE_test_loss:5.364418029785156e-05\n",
            "Epoch:1020|MAE_train_loss:0.0010578724322840571|MAE_test_loss:5.364418029785156e-05\n",
            "Epoch:1030|MAE_train_loss:0.0010578724322840571|MAE_test_loss:5.364418029785156e-05\n",
            "Epoch:1040|MAE_train_loss:0.0010578724322840571|MAE_test_loss:5.364418029785156e-05\n",
            "Epoch:1050|MAE_train_loss:0.0010578724322840571|MAE_test_loss:5.364418029785156e-05\n",
            "Epoch:1060|MAE_train_loss:0.0010578724322840571|MAE_test_loss:5.364418029785156e-05\n",
            "Epoch:1070|MAE_train_loss:0.0010578724322840571|MAE_test_loss:5.364418029785156e-05\n",
            "Epoch:1080|MAE_train_loss:0.0010578724322840571|MAE_test_loss:5.364418029785156e-05\n",
            "Epoch:1090|MAE_train_loss:0.0010578724322840571|MAE_test_loss:5.364418029785156e-05\n",
            "Epoch:1100|MAE_train_loss:0.0010578724322840571|MAE_test_loss:5.364418029785156e-05\n",
            "Epoch:1110|MAE_train_loss:0.0010578724322840571|MAE_test_loss:5.364418029785156e-05\n",
            "Epoch:1120|MAE_train_loss:0.0010578724322840571|MAE_test_loss:5.364418029785156e-05\n",
            "Epoch:1130|MAE_train_loss:0.0010578724322840571|MAE_test_loss:5.364418029785156e-05\n",
            "Epoch:1140|MAE_train_loss:0.0010578724322840571|MAE_test_loss:5.364418029785156e-05\n",
            "Epoch:1150|MAE_train_loss:0.0010578724322840571|MAE_test_loss:5.364418029785156e-05\n",
            "Epoch:1160|MAE_train_loss:0.0010578724322840571|MAE_test_loss:5.364418029785156e-05\n",
            "Epoch:1170|MAE_train_loss:0.0010578724322840571|MAE_test_loss:5.364418029785156e-05\n",
            "Epoch:1180|MAE_train_loss:0.0010578724322840571|MAE_test_loss:5.364418029785156e-05\n",
            "Epoch:1190|MAE_train_loss:0.0010578724322840571|MAE_test_loss:5.364418029785156e-05\n",
            "Epoch:1200|MAE_train_loss:0.0010578724322840571|MAE_test_loss:5.364418029785156e-05\n",
            "Epoch:1210|MAE_train_loss:0.0010578724322840571|MAE_test_loss:5.364418029785156e-05\n",
            "Epoch:1220|MAE_train_loss:0.0010578724322840571|MAE_test_loss:5.364418029785156e-05\n",
            "Epoch:1230|MAE_train_loss:0.0010578724322840571|MAE_test_loss:5.364418029785156e-05\n",
            "Epoch:1240|MAE_train_loss:0.0010578724322840571|MAE_test_loss:5.364418029785156e-05\n",
            "Epoch:1250|MAE_train_loss:0.0010578724322840571|MAE_test_loss:5.364418029785156e-05\n",
            "Epoch:1260|MAE_train_loss:0.0010578724322840571|MAE_test_loss:5.364418029785156e-05\n",
            "Epoch:1270|MAE_train_loss:0.0010578724322840571|MAE_test_loss:5.364418029785156e-05\n",
            "Epoch:1280|MAE_train_loss:0.0010578724322840571|MAE_test_loss:5.364418029785156e-05\n",
            "Epoch:1290|MAE_train_loss:0.0010578724322840571|MAE_test_loss:5.364418029785156e-05\n",
            "Epoch:1300|MAE_train_loss:0.0010578724322840571|MAE_test_loss:5.364418029785156e-05\n",
            "Epoch:1310|MAE_train_loss:0.0010578724322840571|MAE_test_loss:5.364418029785156e-05\n",
            "Epoch:1320|MAE_train_loss:0.0010578724322840571|MAE_test_loss:5.364418029785156e-05\n",
            "Epoch:1330|MAE_train_loss:0.0010578724322840571|MAE_test_loss:5.364418029785156e-05\n",
            "Epoch:1340|MAE_train_loss:0.0010578724322840571|MAE_test_loss:5.364418029785156e-05\n",
            "Epoch:1350|MAE_train_loss:0.0010578724322840571|MAE_test_loss:5.364418029785156e-05\n",
            "Epoch:1360|MAE_train_loss:0.0010578724322840571|MAE_test_loss:5.364418029785156e-05\n",
            "Epoch:1370|MAE_train_loss:0.0010578724322840571|MAE_test_loss:5.364418029785156e-05\n",
            "Epoch:1380|MAE_train_loss:0.0010578724322840571|MAE_test_loss:5.364418029785156e-05\n",
            "Epoch:1390|MAE_train_loss:0.0010578724322840571|MAE_test_loss:5.364418029785156e-05\n",
            "Epoch:1400|MAE_train_loss:0.0010578724322840571|MAE_test_loss:5.364418029785156e-05\n",
            "Epoch:1410|MAE_train_loss:0.0010578724322840571|MAE_test_loss:5.364418029785156e-05\n",
            "Epoch:1420|MAE_train_loss:0.0010578724322840571|MAE_test_loss:5.364418029785156e-05\n",
            "Epoch:1430|MAE_train_loss:0.0010578724322840571|MAE_test_loss:5.364418029785156e-05\n",
            "Epoch:1440|MAE_train_loss:0.0010578724322840571|MAE_test_loss:5.364418029785156e-05\n",
            "Epoch:1450|MAE_train_loss:0.0010578724322840571|MAE_test_loss:5.364418029785156e-05\n",
            "Epoch:1460|MAE_train_loss:0.0010578724322840571|MAE_test_loss:5.364418029785156e-05\n",
            "Epoch:1470|MAE_train_loss:0.0010578724322840571|MAE_test_loss:5.364418029785156e-05\n",
            "Epoch:1480|MAE_train_loss:0.0010578724322840571|MAE_test_loss:5.364418029785156e-05\n",
            "Epoch:1490|MAE_train_loss:0.0010578724322840571|MAE_test_loss:5.364418029785156e-05\n",
            "Epoch:1500|MAE_train_loss:0.0010578724322840571|MAE_test_loss:5.364418029785156e-05\n",
            "Epoch:1510|MAE_train_loss:0.0010578724322840571|MAE_test_loss:5.364418029785156e-05\n",
            "Epoch:1520|MAE_train_loss:0.0010578724322840571|MAE_test_loss:5.364418029785156e-05\n",
            "Epoch:1530|MAE_train_loss:0.0010578724322840571|MAE_test_loss:5.364418029785156e-05\n",
            "Epoch:1540|MAE_train_loss:0.0010578724322840571|MAE_test_loss:5.364418029785156e-05\n",
            "Epoch:1550|MAE_train_loss:0.0010578724322840571|MAE_test_loss:5.364418029785156e-05\n",
            "Epoch:1560|MAE_train_loss:0.0010578724322840571|MAE_test_loss:5.364418029785156e-05\n",
            "Epoch:1570|MAE_train_loss:0.0010578724322840571|MAE_test_loss:5.364418029785156e-05\n",
            "Epoch:1580|MAE_train_loss:0.0010578724322840571|MAE_test_loss:5.364418029785156e-05\n",
            "Epoch:1590|MAE_train_loss:0.0010578724322840571|MAE_test_loss:5.364418029785156e-05\n",
            "Epoch:1600|MAE_train_loss:0.0010578724322840571|MAE_test_loss:5.364418029785156e-05\n",
            "Epoch:1610|MAE_train_loss:0.0010578724322840571|MAE_test_loss:5.364418029785156e-05\n",
            "Epoch:1620|MAE_train_loss:0.0010578724322840571|MAE_test_loss:5.364418029785156e-05\n",
            "Epoch:1630|MAE_train_loss:0.0010578724322840571|MAE_test_loss:5.364418029785156e-05\n",
            "Epoch:1640|MAE_train_loss:0.0010578724322840571|MAE_test_loss:5.364418029785156e-05\n",
            "Epoch:1650|MAE_train_loss:0.0010578724322840571|MAE_test_loss:5.364418029785156e-05\n",
            "Epoch:1660|MAE_train_loss:0.0010578724322840571|MAE_test_loss:5.364418029785156e-05\n",
            "Epoch:1670|MAE_train_loss:0.0010578724322840571|MAE_test_loss:5.364418029785156e-05\n",
            "Epoch:1680|MAE_train_loss:0.0010578724322840571|MAE_test_loss:5.364418029785156e-05\n",
            "Epoch:1690|MAE_train_loss:0.0010578724322840571|MAE_test_loss:5.364418029785156e-05\n",
            "Epoch:1700|MAE_train_loss:0.0010578724322840571|MAE_test_loss:5.364418029785156e-05\n",
            "Epoch:1710|MAE_train_loss:0.0010578724322840571|MAE_test_loss:5.364418029785156e-05\n",
            "Epoch:1720|MAE_train_loss:0.0010578724322840571|MAE_test_loss:5.364418029785156e-05\n",
            "Epoch:1730|MAE_train_loss:0.0010578724322840571|MAE_test_loss:5.364418029785156e-05\n",
            "Epoch:1740|MAE_train_loss:0.0010578724322840571|MAE_test_loss:5.364418029785156e-05\n",
            "Epoch:1750|MAE_train_loss:0.0010578724322840571|MAE_test_loss:5.364418029785156e-05\n",
            "Epoch:1760|MAE_train_loss:0.0010578724322840571|MAE_test_loss:5.364418029785156e-05\n",
            "Epoch:1770|MAE_train_loss:0.0010578724322840571|MAE_test_loss:5.364418029785156e-05\n",
            "Epoch:1780|MAE_train_loss:0.0010578724322840571|MAE_test_loss:5.364418029785156e-05\n",
            "Epoch:1790|MAE_train_loss:0.0010578724322840571|MAE_test_loss:5.364418029785156e-05\n",
            "Epoch:1800|MAE_train_loss:0.0010578724322840571|MAE_test_loss:5.364418029785156e-05\n",
            "Epoch:1810|MAE_train_loss:0.0010578724322840571|MAE_test_loss:5.364418029785156e-05\n",
            "Epoch:1820|MAE_train_loss:0.0010578724322840571|MAE_test_loss:5.364418029785156e-05\n",
            "Epoch:1830|MAE_train_loss:0.0010578724322840571|MAE_test_loss:5.364418029785156e-05\n",
            "Epoch:1840|MAE_train_loss:0.0010578724322840571|MAE_test_loss:5.364418029785156e-05\n",
            "Epoch:1850|MAE_train_loss:0.0010578724322840571|MAE_test_loss:5.364418029785156e-05\n",
            "Epoch:1860|MAE_train_loss:0.0010578724322840571|MAE_test_loss:5.364418029785156e-05\n",
            "Epoch:1870|MAE_train_loss:0.0010578724322840571|MAE_test_loss:5.364418029785156e-05\n",
            "Epoch:1880|MAE_train_loss:0.0010578724322840571|MAE_test_loss:5.364418029785156e-05\n",
            "Epoch:1890|MAE_train_loss:0.0010578724322840571|MAE_test_loss:5.364418029785156e-05\n",
            "Epoch:1900|MAE_train_loss:0.0010578724322840571|MAE_test_loss:5.364418029785156e-05\n",
            "Epoch:1910|MAE_train_loss:0.0010578724322840571|MAE_test_loss:5.364418029785156e-05\n",
            "Epoch:1920|MAE_train_loss:0.0010578724322840571|MAE_test_loss:5.364418029785156e-05\n",
            "Epoch:1930|MAE_train_loss:0.0010578724322840571|MAE_test_loss:5.364418029785156e-05\n",
            "Epoch:1940|MAE_train_loss:0.0010578724322840571|MAE_test_loss:5.364418029785156e-05\n",
            "Epoch:1950|MAE_train_loss:0.0010578724322840571|MAE_test_loss:5.364418029785156e-05\n",
            "Epoch:1960|MAE_train_loss:0.0010578724322840571|MAE_test_loss:5.364418029785156e-05\n",
            "Epoch:1970|MAE_train_loss:0.0010578724322840571|MAE_test_loss:5.364418029785156e-05\n",
            "Epoch:1980|MAE_train_loss:0.0010578724322840571|MAE_test_loss:5.364418029785156e-05\n",
            "Epoch:1990|MAE_train_loss:0.0010578724322840571|MAE_test_loss:5.364418029785156e-05\n",
            "Epoch:2000|MAE_train_loss:0.0010578724322840571|MAE_test_loss:5.364418029785156e-05\n"
          ]
        }
      ]
    },
    {
      "cell_type": "code",
      "source": [
        "y_pred = lr.forward(X_test)\n",
        "y_pred_np = y_pred.detach().numpy()\n",
        "plot_data(X_train, y_train, X_test, y_test,y_pred = y_pred_np,predictions = 2)\n",
        "\n",
        "\n"
      ],
      "metadata": {
        "colab": {
          "base_uri": "https://localhost:8080/",
          "height": 467
        },
        "id": "ntXt5quixd3G",
        "outputId": "e763df0d-22a5-462f-e6d2-b52611765371"
      },
      "execution_count": null,
      "outputs": [
        {
          "output_type": "display_data",
          "data": {
            "text/plain": [
              "<Figure size 500x500 with 1 Axes>"
            ],
            "image/png": "[encoded data removed]"
          },
          "metadata": {}
        }
      ]
    },
    {
      "cell_type": "code",
      "source": [
        "lr.state_dict()"
      ],
      "metadata": {
        "colab": {
          "base_uri": "https://localhost:8080/"
        },
        "id": "QQyhGeuXzi8k",
        "outputId": "b078395c-e31e-44d7-eeb0-d2d838deff8e"
      },
      "execution_count": null,
      "outputs": [
        {
          "output_type": "execute_result",
          "data": {
            "text/plain": [
              "OrderedDict([('weights', tensor([0.3000])), ('bias', tensor([0.9001]))])"
            ]
          },
          "metadata": {},
          "execution_count": 76
        }
      ]
    }
  ]
}